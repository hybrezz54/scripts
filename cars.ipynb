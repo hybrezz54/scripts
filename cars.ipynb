{
 "cells": [
  {
   "cell_type": "markdown",
   "metadata": {},
   "source": [
    "# Analyzing Used Cars on CarMax and Craigslist"
   ]
  },
  {
   "cell_type": "code",
   "execution_count": 3,
   "metadata": {},
   "outputs": [],
   "source": [
    "import requests\n",
    "import pandas as pd\n",
    "from bs4 import BeautifulSoup"
   ]
  },
  {
   "cell_type": "markdown",
   "metadata": {},
   "source": [
    "## Craigslist"
   ]
  },
  {
   "cell_type": "code",
   "execution_count": null,
   "metadata": {},
   "outputs": [],
   "source": [
    "def get_vehicles_craigslist():\n",
    "    \"\"\"Get data for vehicles by scraping Craigslist\"\"\"\n",
    "    url = 'https://raleigh.craigslist.org/d/cars-trucks/search/cta?hasPic=1'\n",
    "    resp = requests.get(url)\n",
    "    html = BeautifulSoup(resp.text, 'html.parser')"
   ]
  },
  {
   "cell_type": "code",
   "execution_count": null,
   "metadata": {},
   "outputs": [],
   "source": [
    "\n",
    "html = BeautifulSoup()"
   ]
  },
  {
   "cell_type": "markdown",
   "metadata": {},
   "source": [
    "## CarMax\n",
    "\n",
    "Query params:\n",
    " - perPage (values 0-100)\n",
    "\n",
    "Endpoints:\n",
    " - api.carmax.com/v1/api/vehicles\n",
    " - api.carmax.com/v1/api/vehicles?locationid=7102&distance=store (GET)\n",
    " - www.carmax.com/cars/api/finance/ratesandfees/NC\n",
    " - www.carmax.com/cars/api/disclaimer?storeId=7102 (GET)\n",
    " - www.carmax.com/cars/api/images/getgallery?stocknumber=18461738&width=1600\n",
    " - api.carmax.com/v1/api/stores/7102?platform=carmax.com (OPTIONS, GET, POST)\n",
    " - api.carmax.com/v1/api/stores/7102 (OPTIONS, GET, POST)\n",
    " - www.carmax.com/home/api/socialproof (POST)\n",
    " - www.carmax.com/home/api/search?&stockNumbers=18839558&stockNumbers=18788157&stockNumbers=18851406&stockNumbers=18805195&stockNumbers=18819211&stockNumbers=18463713&stockNumbers=18872581&stockNumbers=18419766&stockNumbers=18818932&stockNumbers=18468003&isSaleable=true (GET)\n",
    " - api.carmax.com/v1/api/leads/moreinfo (POST)\n",
    " - api.carmax.com/v1/api/appointments/7102/store?appointmenttype=browse (POST)\n",
    " - api.carmax.com/v1/api/appointments/7102/store?appointmenttype=appraisal (POST)"
   ]
  },
  {
   "cell_type": "code",
   "execution_count": 14,
   "metadata": {},
   "outputs": [],
   "source": [
    "def get_carmax_page_api():\n",
    "    \"\"\"Get data for a page of 20 vehicles from the CarMax API.\"\"\"\n",
    "    # make a GET request to the vehicles endpoint\n",
    "    url = 'https://api.carmax.com/v1/api/vehicles'\n",
    "    headers = { 'User-Agent': 'U-A-1.0' }\n",
    "    resp = requests.get(url, headers = headers)\n",
    "    \n",
    "    # get JSON from requests and return the results subsection\n",
    "    return resp.json()['Results']\n"
   ]
  },
  {
   "cell_type": "code",
   "execution_count": 16,
   "metadata": {},
   "outputs": [
    {
     "output_type": "execute_result",
     "data": {
      "text/plain": "   AverageRating  Cylinders                      Description DriveTrain  \\\n0          4.875          6                    2009 Acura TL        2WD   \n1          5.000          6             2014 Acura TL SH-AWD        4WD   \n2          5.000          8            2014 Audi S6 Prestige        4WD   \n3          4.000          8  2016 Cadillac Escalade Platinum        4WD   \n4          4.611          6                2015 Cadillac SRX        2WD   \n\n  EngineSize ExteriorColor                                         Highlights  \\\n0       3.5L         White  Leather Seats, Sunroof(s), Front Seat Heaters,...   \n1       3.7L         Black  Technology Package, 4WD/AWD, Leather Seats, Su...   \n2       4.0L         Black  Auto Cruise Control, 4WD/AWD, Turbo Charged En...   \n3       6.2L         Black  Power Liftgate/DeckLid, Head Up Display, Auto ...   \n4       3.6L         Black  Leatherette Seats, BOSE Sound System, Satellit...   \n\n  InteriorColor  IsInMarket  IsNew  ...   StockNumber  StoreCityName  StoreId  \\\n0          Gray       False  False  ...      18789063          Omaha     7270   \n1         Black       False  False  ...      18881245          Omaha     7270   \n2         Black       False  False  ...      17889416          Omaha     7270   \n3         Black       False  False  ...      18361640          Omaha     7270   \n4         Black       False  False  ...      18040834          Omaha     7270   \n\n   StoreName  StoreStateAbbreviation      TransferText   TransferType  \\\n0      Omaha                      NE  Non-Transferable  NotApplicable   \n1      Omaha                      NE  Non-Transferable  NotApplicable   \n2      Omaha                      NE  Non-Transferable  NotApplicable   \n3      Omaha                      NE  Non-Transferable  NotApplicable   \n4      Omaha                      NE  Non-Transferable  NotApplicable   \n\n  Transmission                Vin  Year  \n0    Automatic  19UUA86209A020036  2009  \n1    Automatic  19UUA9F50EA000959  2014  \n2    Automatic  WAUF2AFC6EN108495  2014  \n3    Automatic  1GYS4BKJ8GR417042  2016  \n4    Automatic  3GYFNAE36FS561271  2015  \n\n[5 rows x 39 columns]",
      "text/html": "<div>\n<style scoped>\n    .dataframe tbody tr th:only-of-type {\n        vertical-align: middle;\n    }\n\n    .dataframe tbody tr th {\n        vertical-align: top;\n    }\n\n    .dataframe thead th {\n        text-align: right;\n    }\n</style>\n<table border=\"1\" class=\"dataframe\">\n  <thead>\n    <tr style=\"text-align: right;\">\n      <th></th>\n      <th>AverageRating</th>\n      <th>Cylinders</th>\n      <th>Description</th>\n      <th>DriveTrain</th>\n      <th>EngineSize</th>\n      <th>ExteriorColor</th>\n      <th>Highlights</th>\n      <th>InteriorColor</th>\n      <th>IsInMarket</th>\n      <th>IsNew</th>\n      <th>...</th>\n      <th>StockNumber</th>\n      <th>StoreCityName</th>\n      <th>StoreId</th>\n      <th>StoreName</th>\n      <th>StoreStateAbbreviation</th>\n      <th>TransferText</th>\n      <th>TransferType</th>\n      <th>Transmission</th>\n      <th>Vin</th>\n      <th>Year</th>\n    </tr>\n  </thead>\n  <tbody>\n    <tr>\n      <th>0</th>\n      <td>4.875</td>\n      <td>6</td>\n      <td>2009 Acura TL</td>\n      <td>2WD</td>\n      <td>3.5L</td>\n      <td>White</td>\n      <td>Leather Seats, Sunroof(s), Front Seat Heaters,...</td>\n      <td>Gray</td>\n      <td>False</td>\n      <td>False</td>\n      <td>...</td>\n      <td>18789063</td>\n      <td>Omaha</td>\n      <td>7270</td>\n      <td>Omaha</td>\n      <td>NE</td>\n      <td>Non-Transferable</td>\n      <td>NotApplicable</td>\n      <td>Automatic</td>\n      <td>19UUA86209A020036</td>\n      <td>2009</td>\n    </tr>\n    <tr>\n      <th>1</th>\n      <td>5.000</td>\n      <td>6</td>\n      <td>2014 Acura TL SH-AWD</td>\n      <td>4WD</td>\n      <td>3.7L</td>\n      <td>Black</td>\n      <td>Technology Package, 4WD/AWD, Leather Seats, Su...</td>\n      <td>Black</td>\n      <td>False</td>\n      <td>False</td>\n      <td>...</td>\n      <td>18881245</td>\n      <td>Omaha</td>\n      <td>7270</td>\n      <td>Omaha</td>\n      <td>NE</td>\n      <td>Non-Transferable</td>\n      <td>NotApplicable</td>\n      <td>Automatic</td>\n      <td>19UUA9F50EA000959</td>\n      <td>2014</td>\n    </tr>\n    <tr>\n      <th>2</th>\n      <td>5.000</td>\n      <td>8</td>\n      <td>2014 Audi S6 Prestige</td>\n      <td>4WD</td>\n      <td>4.0L</td>\n      <td>Black</td>\n      <td>Auto Cruise Control, 4WD/AWD, Turbo Charged En...</td>\n      <td>Black</td>\n      <td>False</td>\n      <td>False</td>\n      <td>...</td>\n      <td>17889416</td>\n      <td>Omaha</td>\n      <td>7270</td>\n      <td>Omaha</td>\n      <td>NE</td>\n      <td>Non-Transferable</td>\n      <td>NotApplicable</td>\n      <td>Automatic</td>\n      <td>WAUF2AFC6EN108495</td>\n      <td>2014</td>\n    </tr>\n    <tr>\n      <th>3</th>\n      <td>4.000</td>\n      <td>8</td>\n      <td>2016 Cadillac Escalade Platinum</td>\n      <td>4WD</td>\n      <td>6.2L</td>\n      <td>Black</td>\n      <td>Power Liftgate/DeckLid, Head Up Display, Auto ...</td>\n      <td>Black</td>\n      <td>False</td>\n      <td>False</td>\n      <td>...</td>\n      <td>18361640</td>\n      <td>Omaha</td>\n      <td>7270</td>\n      <td>Omaha</td>\n      <td>NE</td>\n      <td>Non-Transferable</td>\n      <td>NotApplicable</td>\n      <td>Automatic</td>\n      <td>1GYS4BKJ8GR417042</td>\n      <td>2016</td>\n    </tr>\n    <tr>\n      <th>4</th>\n      <td>4.611</td>\n      <td>6</td>\n      <td>2015 Cadillac SRX</td>\n      <td>2WD</td>\n      <td>3.6L</td>\n      <td>Black</td>\n      <td>Leatherette Seats, BOSE Sound System, Satellit...</td>\n      <td>Black</td>\n      <td>False</td>\n      <td>False</td>\n      <td>...</td>\n      <td>18040834</td>\n      <td>Omaha</td>\n      <td>7270</td>\n      <td>Omaha</td>\n      <td>NE</td>\n      <td>Non-Transferable</td>\n      <td>NotApplicable</td>\n      <td>Automatic</td>\n      <td>3GYFNAE36FS561271</td>\n      <td>2015</td>\n    </tr>\n  </tbody>\n</table>\n<p>5 rows × 39 columns</p>\n</div>"
     },
     "metadata": {},
     "execution_count": 16
    }
   ],
   "source": [
    "cm_data = pd.DataFrame(get_carmax_page_api())\n",
    "cm_data.head()"
   ]
  },
  {
   "cell_type": "code",
   "execution_count": 18,
   "metadata": {},
   "outputs": [
    {
     "output_type": "execute_result",
     "data": {
      "text/plain": "['AverageRating',\n 'Cylinders',\n 'Description',\n 'DriveTrain',\n 'EngineSize',\n 'ExteriorColor',\n 'Highlights',\n 'InteriorColor',\n 'IsInMarket',\n 'IsNew',\n 'IsNewArrival',\n 'IsSaleable',\n 'IsSaved',\n 'IsSold',\n 'IsTransferable',\n 'LastMadeSaleableDate',\n 'Links',\n 'LotLocation',\n 'Make',\n 'Miles',\n 'Model',\n 'MpgCity',\n 'MpgHighway',\n 'Msrp',\n 'NewTireCount',\n 'NumberOfReviews',\n 'PhotoCount',\n 'PhotoUrl',\n 'Price',\n 'StockNumber',\n 'StoreCityName',\n 'StoreId',\n 'StoreName',\n 'StoreStateAbbreviation',\n 'TransferText',\n 'TransferType',\n 'Transmission',\n 'Vin',\n 'Year']"
     },
     "metadata": {},
     "execution_count": 18
    }
   ],
   "source": [
    "list(cm_data.columns)"
   ]
  },
  {
   "cell_type": "code",
   "execution_count": null,
   "metadata": {},
   "outputs": [],
   "source": []
  }
 ],
 "metadata": {
  "language_info": {
   "codemirror_mode": {
    "name": "ipython",
    "version": 3
   },
   "file_extension": ".py",
   "mimetype": "text/x-python",
   "name": "python",
   "nbconvert_exporter": "python",
   "pygments_lexer": "ipython3",
   "version": "3.7.7-final"
  },
  "orig_nbformat": 2,
  "kernelspec": {
   "name": "python37764bitenvvenv2b8735f518054413a6abebc358138136",
   "display_name": "Python 3.7.7 64-bit ('.env': venv)"
  }
 },
 "nbformat": 4,
 "nbformat_minor": 2
}